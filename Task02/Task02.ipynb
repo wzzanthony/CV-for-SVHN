{
 "cells": [
  {
   "cell_type": "markdown",
   "metadata": {},
   "source": [
    "# Task2 数据读取与数据扩增"
   ]
  },
  {
   "cell_type": "markdown",
   "metadata": {},
   "source": [
    "采用的方法是定长字符识别"
   ]
  },
  {
   "cell_type": "markdown",
   "metadata": {},
   "source": [
    "**1.学习内容**\n",
    "\n",
    "1.python中的图像读取(pillow和opencv)\n",
    "2.使用pytorch读取数据并实现数据扩增\n"
   ]
  },
  {
   "cell_type": "markdown",
   "metadata": {},
   "source": [
    "**2.图像读取**\n",
    "\n",
    "python图像处理必备两个库:pillow和opencv\n",
    "\n",
    "2.1 pillow"
   ]
  },
  {
   "cell_type": "code",
   "execution_count": 3,
   "metadata": {},
   "outputs": [
    {
     "name": "stdout",
     "output_type": "stream",
     "text": [
      "JPEG (230, 240) RGB\n"
     ]
    }
   ],
   "source": [
    "from PIL import Image,ImageFilter\n",
    "#PIL中的Image类最常用\n",
    "\n",
    "#读取图片，图像默认格式RGB\n",
    "im = Image.open(\"Lena.jpg\")\n",
    "print(im.format, im.size, im.mode)\n",
    "#调用xv image viewer 展示图片\n",
    "im.show()"
   ]
  },
  {
   "cell_type": "code",
   "execution_count": 9,
   "metadata": {},
   "outputs": [],
   "source": [
    "#应用模糊滤镜\n",
    "im_blur = im.filter(ImageFilter.BLUR)\n",
    "im_blur.show()\n",
    "im_blur.save(\"Lena_blur.jpg\")"
   ]
  },
  {
   "cell_type": "code",
   "execution_count": null,
   "metadata": {},
   "outputs": [
    {
     "name": "stdout",
     "output_type": "stream",
     "text": [
      "(230, 240)\n",
      "this is the size of im_resize: (115, 120)\n",
      "this is the size of im: (230, 240)\n",
      "this is the size of im: (115, 120)\n"
     ]
    }
   ],
   "source": [
    "#生成缩略图\n",
    "#thumbnail 和 resize\n",
    "#thumbnail 会覆盖原图而 resize 会返回一个新的对象\n",
    "(w, h) = im.size\n",
    "print(im.size)\n",
    "im_resize = im.resize((w//2, h//2))\n",
    "print(\"this is the size of im_resize: {}\".format(im_resize.size))\n",
    "print(\"this is the size of im: {}\".format(im.size))\n",
    "im.thumbnail((w//2, h//2))\n",
    "print(\"this is the size of im: {}\".format(im.size))\n",
    "im.show()"
   ]
  },
  {
   "cell_type": "markdown",
   "metadata": {},
   "source": [
    "2.2 OpenCV\n",
    "\n",
    "opencv是一个功能非常强大的库，其在计算机视觉以及数字图像处理上有着很深的影响力"
   ]
  },
  {
   "cell_type": "code",
   "execution_count": null,
   "metadata": {},
   "outputs": [],
   "source": [
    "import cv2\n",
    "#opencv 读取图片，图像通道为BGR\n",
    "img = cv2.imread('Lena.jpg')\n",
    "cv2.imwrite(\"Lena_BRG.jpg\", img)\n",
    "\n",
    "# Opencv默认颜色通道顺序是BRG，转换一下\n",
    "img = cv2.cvtColor(img, cv2.COLOR_BGR2RGB)\n",
    "cv2.imwrite(\"Lena_RGB.jpg\", img)\n",
    "\n",
    "#转换为灰度图\n",
    "img = cv2.cvtColor(img, cv2.COLOR_BGR2GRAY)\n",
    "cv2.imwrite(\"Lena_gray.jpg\", img)\n",
    "#Canny边缘检测\n",
    "edges = cv2.Canny(img, 30, 70)\n",
    "cv2.imwrite('canny.jpg', edges)\n"
   ]
  },
  {
   "cell_type": "markdown",
   "metadata": {},
   "source": [
    "**3.数据扩增（Data Augmentation）**\n",
    "3.1 什么是数据扩增\n",
    "\n",
    "数据扩增可以增加训练集的样本，对于深度学习而言非常重要（训练集数据越多越好），可以有效缓解模型的过拟合情况，有效地增强模型的泛化能力\n",
    "\n",
    "3.2 作用\n",
    "\n",
    "1.深度学习参数非常之多，而一般数据集很难满足数量上的条件\n",
    "\n",
    "2.扩展样本空间，比如通过旋转，位移或者颜色变化，让模型更关注需要识别的对象本身，而非对象所在的位置或者角度\n",
    "\n",
    "3.3数据扩增方法\n",
    "\n",
    "2.3.2 常见的数据扩增方法\n",
    "在常见的数据扩增方法中，一般会从图像颜色、尺寸、形态、空间和像素等角度进行变换。当然不同的数据扩增方法可以自由进行组合，得到更加丰富的数据扩增方法。\n",
    "\n",
    "以torchvision为例，常见的数据扩增方法包括：\n",
    "\n",
    "+ transforms.CenterCrop 对图片中心进行裁剪 \n",
    "\n",
    "+ transforms.ColorJitter 对图像颜色的对比度、饱和度和零度进行变换 \n",
    "\n",
    "+ transforms.FiveCrop 对图像四个角和中心进行裁剪得到五分图像\n",
    "\n",
    "+ transforms.Grayscale 对图像进行灰度变换\n",
    "\n",
    "+ transforms.Pad 使用固定值进行像素填充\n",
    "\n",
    "+ transforms.RandomAffine 随机仿射变换\n",
    "\n",
    "+ transforms.RandomCrop 随机区域裁剪\n",
    "\n",
    "+ transforms.RandomHorizontalFlip 随机水平翻转\n",
    "\n",
    "+ transforms.RandomRotation 随机旋转\n",
    "\n",
    "+ transforms.RandomVerticalFlip 随机垂直翻转"
   ]
  },
  {
   "cell_type": "markdown",
   "metadata": {},
   "source": [
    "**2.4 pytorch读取数据**\n",
    "\n",
    "下面的代码中封装了Dataset和DataLoader两个接口\n",
    "\n",
    "Dataset：对数据集的封装，提供索引方式的对数据样本进行读取\n",
    "\n",
    "DataLoder：对Dataset进行封装，提供批量读取的迭代读取"
   ]
  },
  {
   "cell_type": "code",
   "execution_count": null,
   "metadata": {},
   "outputs": [],
   "source": [
    "import os, sys, glob, shutil, json\n",
    "import cv2\n",
    "\n",
    "from PIL import Image\n",
    "import numpy as np\n",
    "\n",
    "import torch\n",
    "from torch.utils.data.dataset import Dataset\n",
    "import torchvision.transforms as transforms\n",
    "\n",
    "class SVHNDataset(Dataset):\n",
    "    def __init__(self, img_path, img_label, transform=None):\n",
    "        self.img_path = img_path\n",
    "        self.img_label = img_label \n",
    "        if transform is not None:\n",
    "            self.transform = transform\n",
    "        else:\n",
    "            self.transform = None\n",
    "\n",
    "    def __getitem__(self, index):\n",
    "        img = Image.open(self.img_path[index]).convert('RGB')\n",
    "\n",
    "        if self.transform is not None:\n",
    "            img = self.transform(img)\n",
    "        \n",
    "        # 原始SVHN中类别10为数字0\n",
    "        lbl = np.array(self.img_label[index], dtype=np.int)\n",
    "        lbl = list(lbl)  + (5 - len(lbl)) * [10]\n",
    "        \n",
    "        return img, torch.from_numpy(np.array(lbl[:5]))\n",
    "\n",
    "    def __len__(self):\n",
    "        return len(self.img_path)\n",
    "\n",
    "train_path = glob.glob('../input/train/*.png')\n",
    "train_path.sort()\n",
    "train_json = json.load(open('../input/train.json'))\n",
    "train_label = [train_json[x]['label'] for x in train_json]\n",
    "\n",
    "#using Dataset\n",
    "data = SVHNDataset(train_path, train_label,\n",
    "          transforms.Compose([\n",
    "              # 缩放到固定尺寸\n",
    "              transforms.Resize((64, 128)),\n",
    "\n",
    "              # 随机颜色变换\n",
    "              transforms.ColorJitter(0.2, 0.2, 0.2),\n",
    "\n",
    "              # 加入随机旋转\n",
    "              transforms.RandomRotation(5),\n",
    "\n",
    "              # 将图片转换为pytorch 的tesntor\n",
    "              # transforms.ToTensor(),\n",
    "\n",
    "              # 对图像像素进行归一化\n",
    "              # transforms.Normalize([0.485,0.456,0.406],[0.229,0.224,0.225])\n",
    "            ]))\n",
    "\n",
    "#using train_loader\n",
    "train_loader = torch.utils.data.DataLoader(\n",
    "        SVHNDataset(train_path, train_label,\n",
    "                   transforms.Compose([\n",
    "                       transforms.Resize((64, 128)),\n",
    "                       transforms.ColorJitter(0.3, 0.3, 0.2),\n",
    "                       transforms.RandomRotation(5),\n",
    "                       transforms.ToTensor(),\n",
    "                       transforms.Normalize([0.485, 0.456, 0.406], [0.229, 0.224, 0.225])\n",
    "            ])), \n",
    "    batch_size=10, # 每批样本个数\n",
    "    shuffle=False, # 是否打乱顺序\n",
    "    num_workers=10, # 读取的线程个数\n",
    ")\n",
    "\n",
    "for train_data in train_loader:\n",
    "    break"
   ]
  }
 ],
 "metadata": {
  "kernelspec": {
   "display_name": "Python 3.7.4 64-bit",
   "language": "python",
   "name": "python37464bitb3136b6a1a134bdbbe60830bb16671be"
  },
  "language_info": {
   "codemirror_mode": {
    "name": "ipython",
    "version": 3
   },
   "file_extension": ".py",
   "mimetype": "text/x-python",
   "name": "python",
   "nbconvert_exporter": "python",
   "pygments_lexer": "ipython3",
   "version": "3.7.4"
  }
 },
 "nbformat": 4,
 "nbformat_minor": 2
}
