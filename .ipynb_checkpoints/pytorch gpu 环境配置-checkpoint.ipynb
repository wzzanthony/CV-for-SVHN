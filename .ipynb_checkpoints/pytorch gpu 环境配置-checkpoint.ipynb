{
 "cells": [
  {
   "cell_type": "markdown",
   "metadata": {},
   "source": [
    "# pytotch GPU 环境配置"
   ]
  },
  {
   "cell_type": "markdown",
   "metadata": {},
   "source": [
    "1.安装pytorch"
   ]
  },
  {
   "cell_type": "code",
   "execution_count": null,
   "metadata": {},
   "outputs": [],
   "source": [
    "进入官网https://pytorch.org/get-started/locally/\n",
    "    \n",
    "根据自己的需求和配置选择合适的版本，网页上会生成对应的命令行，运行对应的命令进行安装"
   ]
  },
  {
   "cell_type": "markdown",
   "metadata": {},
   "source": [
    "查看torch是否安装成功"
   ]
  },
  {
   "cell_type": "code",
   "execution_count": 2,
   "metadata": {},
   "outputs": [],
   "source": [
    "import torch"
   ]
  },
  {
   "cell_type": "markdown",
   "metadata": {},
   "source": [
    "查看torch版本"
   ]
  },
  {
   "cell_type": "code",
   "execution_count": 3,
   "metadata": {},
   "outputs": [
    {
     "name": "stdout",
     "output_type": "stream",
     "text": [
      "1.3.1\n"
     ]
    }
   ],
   "source": [
    "print(torch.__version__) "
   ]
  },
  {
   "cell_type": "markdown",
   "metadata": {},
   "source": [
    "2.安装cuda\n",
    "\n",
    "其实在此之前，应该需要安装显卡的驱动，但是本机已经安装好了对应的显卡驱动，且安装较为简单，故不再赘述\n",
    "\n",
    "进入cuda官网https://developer.nvidia.com/cuda-downloads\n",
    "\n",
    "根据自己的需求以及电脑的配置选择对应的版本进行下载，为了避免网络问题，建议选择local版本的下载\n",
    "\n",
    "下载完成后，点击对应的安装包，根据默认选项，直接选择下一步即可\n",
    "\n",
    "安装完成后，通过nvcc -V检查是否安装成功"
   ]
  },
  {
   "cell_type": "code",
   "execution_count": 5,
   "metadata": {},
   "outputs": [
    {
     "name": "stderr",
     "output_type": "stream",
     "text": [
      "'nvcc' 不是内部或外部命令，也不是可运行的程序\n",
      "或批处理文件。\n"
     ]
    }
   ],
   "source": []
  },
  {
   "cell_type": "code",
   "execution_count": null,
   "metadata": {},
   "outputs": [],
   "source": []
  }
 ],
 "metadata": {
  "kernelspec": {
   "display_name": "Python 3.7.4 64-bit",
   "language": "python",
   "name": "python37464bitb3136b6a1a134bdbbe60830bb16671be"
  },
  "language_info": {
   "codemirror_mode": {
    "name": "ipython",
    "version": 3
   },
   "file_extension": ".py",
   "mimetype": "text/x-python",
   "name": "python",
   "nbconvert_exporter": "python",
   "pygments_lexer": "ipython3",
   "version": "3.7.4"
  }
 },
 "nbformat": 4,
 "nbformat_minor": 2
}
