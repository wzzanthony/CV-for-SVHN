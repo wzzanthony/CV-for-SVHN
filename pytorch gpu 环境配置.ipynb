{
 "cells": [
  {
   "cell_type": "markdown",
   "metadata": {},
   "source": [
    "# pytotch GPU 环境配置"
   ]
  },
  {
   "cell_type": "markdown",
   "metadata": {},
   "source": [
    "1.安装pytorch"
   ]
  },
  {
   "cell_type": "code",
   "execution_count": null,
   "metadata": {},
   "outputs": [],
   "source": [
    "进入官网https://pytorch.org/get-started/locally/\n",
    "    \n",
    "根据自己的需求和配置选择合适的版本，网页上会生成对应的命令行，运行对应的命令进行安装"
   ]
  },
  {
   "cell_type": "markdown",
   "metadata": {},
   "source": [
    "查看torch是否安装成功"
   ]
  },
  {
   "cell_type": "code",
   "execution_count": 2,
   "metadata": {},
   "outputs": [],
   "source": [
    "import torch"
   ]
  },
  {
   "cell_type": "markdown",
   "metadata": {},
   "source": [
    "查看torch版本"
   ]
  },
  {
   "cell_type": "code",
   "execution_count": 3,
   "metadata": {},
   "outputs": [
    {
     "name": "stdout",
     "output_type": "stream",
     "text": [
      "1.3.1\n"
     ]
    }
   ],
   "source": [
    "print(torch.__version__) "
   ]
  },
  {
   "cell_type": "markdown",
   "metadata": {},
   "source": [
    "2.安装cuda\n",
    "\n",
    "其实在此之前，应该需要安装显卡的驱动，但是本机已经安装好了对应的显卡驱动，且安装较为简单，故不再赘述\n",
    "\n",
    "进入cuda官网https://developer.nvidia.com/cuda-downloads\n",
    "\n",
    "根据自己的需求以及电脑的配置选择对应的版本进行下载，为了避免网络问题，建议选择local版本的下载\n",
    "\n",
    "下载完成后，点击对应的安装包，根据默认选项，直接选择下一步即可\n",
    "\n",
    "安装完成后，通过nvcc -V检查是否安装成功"
   ]
  },
  {
   "cell_type": "code",
   "execution_count": 1,
   "metadata": {},
   "outputs": [
    {
     "name": "stdout",
     "output_type": "stream",
     "text": [
      "nvcc: NVIDIA (R) Cuda compiler driver\n",
      "Copyright (c) 2005-2019 NVIDIA Corporation\n",
      "Built on Wed_Oct_23_19:32:27_Pacific_Daylight_Time_2019\n",
      "Cuda compilation tools, release 10.2, V10.2.89\n"
     ]
    }
   ],
   "source": [
    "!nvcc -V"
   ]
  },
  {
   "cell_type": "markdown",
   "metadata": {},
   "source": [
    "3.安装cudnn\n",
    "\n",
    "其实cuda配置完成后，输入torch.cuda.is_available()，就可以发现返回值为true了。\n",
    "\n",
    "但是相比标准的cuda，它在一些常用的神经网络操作上进行了性能的优化，比如卷积，pooling，归一化，以及激活层等等。\n",
    "\n",
    "所以配置cuDNN时是要对cuda进行一些修改\n",
    "\n"
   ]
  }
 ],
 "metadata": {
  "kernelspec": {
   "display_name": "Python 3.7.4 64-bit",
   "language": "python",
   "name": "python37464bitb3136b6a1a134bdbbe60830bb16671be"
  },
  "language_info": {
   "codemirror_mode": {
    "name": "ipython",
    "version": 3
   },
   "file_extension": ".py",
   "mimetype": "text/x-python",
   "name": "python",
   "nbconvert_exporter": "python",
   "pygments_lexer": "ipython3",
   "version": "3.7.4"
  }
 },
 "nbformat": 4,
 "nbformat_minor": 2
}
